{
 "cells": [
  {
   "cell_type": "code",
   "execution_count": 1,
   "metadata": {},
   "outputs": [],
   "source": [
    "import numpy as np"
   ]
  },
  {
   "cell_type": "code",
   "execution_count": 18,
   "metadata": {},
   "outputs": [
    {
     "name": "stdout",
     "output_type": "stream",
     "text": [
      "11470 100000 0.1147 -27556\n"
     ]
    }
   ],
   "source": [
    "trials = 100000    # Количество попыток\n",
    "successes = 0    # Количество успехов\n",
    "purse = 1    # кошелек\n",
    "\n",
    "for i in range(trials):\n",
    "    random_score = np.random.randint(0, 1000)   \n",
    "    purse += -1\n",
    "    if random_score == 777:\n",
    "        successes += 1\n",
    "        purse += 200\n",
    "    if random_score == 999:\n",
    "        successes += 1\n",
    "        purse += 100\n",
    "    if random_score == 555:\n",
    "        successes += 1\n",
    "        purse += 50\n",
    "    if random_score == 333:\n",
    "        successes += 1\n",
    "        purse += 15\n",
    "    if random_score == 111:\n",
    "        successes += 1\n",
    "        purse += 10\n",
    "    if random_score % 100 == 77:\n",
    "        successes += 1\n",
    "        purse += 5\n",
    "    if random_score % 10 == 7:\n",
    "        successes += 1\n",
    "        purse += 3\n",
    "    if random_score == '\\d00':\n",
    "        successes += 1\n",
    "        purse += 2\n",
    "    if random_score == '\\d{2}0':\n",
    "        successes += 1\n",
    "        purse += 1\n",
    "            \n",
    "p_monte_carlo = successes / trials    # Вероятность из моделирования\n",
    "\n",
    "\n",
    "print(successes, trials, p_monte_carlo, purse)\n",
    "\n"
   ]
  }
 ],
 "metadata": {
  "kernelspec": {
   "display_name": "Python 3",
   "language": "python",
   "name": "python3"
  },
  "language_info": {
   "codemirror_mode": {
    "name": "ipython",
    "version": 3
   },
   "file_extension": ".py",
   "mimetype": "text/x-python",
   "name": "python",
   "nbconvert_exporter": "python",
   "pygments_lexer": "ipython3",
   "version": "3.8.3"
  }
 },
 "nbformat": 4,
 "nbformat_minor": 4
}
